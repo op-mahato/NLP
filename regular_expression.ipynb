{
  "nbformat": 4,
  "nbformat_minor": 0,
  "metadata": {
    "colab": {
      "provenance": [],
      "authorship_tag": "ABX9TyNb544iUjPNztMCmC3UQsg0",
      "include_colab_link": true
    },
    "kernelspec": {
      "name": "python3",
      "display_name": "Python 3"
    },
    "language_info": {
      "name": "python"
    }
  },
  "cells": [
    {
      "cell_type": "markdown",
      "metadata": {
        "id": "view-in-github",
        "colab_type": "text"
      },
      "source": [
        "<a href=\"https://colab.research.google.com/github/op-mahato/NLP/blob/main/regular_expression.ipynb\" target=\"_parent\"><img src=\"https://colab.research.google.com/assets/colab-badge.svg\" alt=\"Open In Colab\"/></a>"
      ]
    },
    {
      "cell_type": "markdown",
      "source": [
        "**Regular Expressions**\n",
        "\n",
        "\n",
        "---\n",
        "Regular expressions, often abbreviated as regex or regexp, are powerful tools for pattern matching and text manipulation. They are a sequence of characters that define a search pattern. Regular expressions are widely used in various programming languages, text editors, and command-line utilities to perform tasks such as searching, matching, and replacing strings based on specific patterns.\n"
      ],
      "metadata": {
        "id": "RyNf5fpt5I3Q"
      }
    },
    {
      "cell_type": "markdown",
      "source": [
        "**The re Module**\n",
        "\n",
        "After importing the module we can use it to detect or find patterns."
      ],
      "metadata": {
        "id": "ZQnjTiuz5bLS"
      }
    },
    {
      "cell_type": "code",
      "execution_count": null,
      "metadata": {
        "id": "N5T_tOMFT7Yw"
      },
      "outputs": [],
      "source": [
        "import re"
      ]
    },
    {
      "cell_type": "markdown",
      "source": [
        "**Character:** All characters, except those having special meaning in regex, matches themselves. E.g., the regex x matches substring \"x\"; regex 9 matches \"9\"; regex = matches \"=\"; and regex @ matches \"@\".\n",
        "\n",
        "**Special Regex Characters (Metacharacters):** These characters have special meaning in regex (to be discussed below): ., +, *, ?, ^, $, (, ), [, ], {, }, |, \\."
      ],
      "metadata": {
        "id": "n41QueBnKafK"
      }
    },
    {
      "cell_type": "markdown",
      "source": [
        "**Metacharacters**\n",
        "\n",
        "Metacharacters are the characters with special meaning.\n",
        "\n",
        "To understand the RE analogy, Metacharacters are useful and important. They will be used in functions of module re. Below is the list of metacharacters.\n",
        "\n",
        "\n",
        "\n",
        "*   \\    : Used to drop the special meaning of character following it\n",
        "*  []    : Represent a character class\n",
        "*   ^    : Matches the beginning\n",
        "*   $    : Matches the end\n",
        "*   .    : Matches any character except newline\n",
        "*   |    : Means OR (Matches with any of the characters separated by it.\n",
        "*   ?    : Matches zero or one occurrence\n",
        "*   '*'  : Any number of occurrences (including 0 occurrences)\n",
        "*   '+'  : One or more occurrences\n",
        "*   {}   : Indicate the number of occurrences of a preceding regex to match.\n",
        "*   ()   : Enclose a group of Regex\n",
        "\n"
      ],
      "metadata": {
        "id": "oTt1EYygd2BB"
      }
    },
    {
      "cell_type": "markdown",
      "source": [
        "**Metacharacters & Description in Detail**\n",
        "\n",
        "\\d\n",
        "\n",
        "Matches any decimal digit; this is equivalent to the class [0-9].\n",
        "\n",
        "\\D\n",
        "\n",
        "Matches any non-digit character; this is equivalent to the class [^0-9].\n",
        "\n",
        "\\s\n",
        "\n",
        "Matches any whitespace character; this is equivalent to the class [\\t\\n\\r\\f\\v].\n",
        "\n",
        "\\S\n",
        "\n",
        "Matches any non-whitespace character; this is equivalent to the class [^\\t\\n\\r\\f\\v].\n",
        "\n",
        "\\w\n",
        "\n",
        "Matches any alphanumeric character; this is equivalent to the class [a-zAZ0-9_].\n",
        "\n",
        "\\W\n",
        "\n",
        "Matches any non-alphanumeric character. equivalent to the class [^a-zAZ0-9_].\n",
        "\n",
        "**.**\n",
        "\n",
        "Matches with any single character except newline '\\n'.\n",
        "\n",
        "?\n",
        "\n",
        "match 0 or 1 occurrence of the pattern to its left\n",
        "\n",
        "+\n",
        "\n",
        "1 or more occurrences of the pattern to its left\n",
        "\n",
        "*\n",
        "\n",
        "0 or more occurrences of the pattern to its left\n",
        "\n",
        "\\b\n",
        "\n",
        "boundary between word and non-word and \\B is opposite of \\b\n",
        "\n",
        "'[..]'\n",
        "\n",
        "Matches any single character in a square bracket and [^..] matches any single character not in square bracket.\n",
        "\n",
        "\n",
        "{n,m}\n",
        "\n",
        "Matches at least n and at most m occurrences of preceding\n",
        "\n",
        "a| b\n",
        "\n",
        "Matches either a or b"
      ],
      "metadata": {
        "id": "IR1WJ8dFjU4U"
      }
    },
    {
      "cell_type": "markdown",
      "source": [
        "**Occurrence Indicators (or Repetition Operators or Quantifiers):**\n",
        "\n",
        "\n",
        "*   +: one or more (1+), e.g., [0-9]+ matches one or more digits such as '123', '000'.\n",
        "*   \\*: zero or more (0+), e.g., [0-9]* matches zero or more digits. It accepts all those in [0-9]+ plus the empty string.\n",
        "\n",
        "*  ?: zero or one (optional), e.g., [+-]? matches an optional \"+\", \"-\", or an empty string.\n",
        "*   {m,n}: m to n (both inclusive)\n",
        "\n",
        "*   {m}: exactly m times\n",
        "*   {m,}: m or more (m+)\n"
      ],
      "metadata": {
        "id": "MlQCe6ahGWQ-"
      }
    },
    {
      "cell_type": "markdown",
      "source": [
        "**Character class (or Bracket List):**\n",
        "\n",
        "[...]: Accept ANY ONE of the character within the square bracket, e.g., [aeiou] matches \"a\", \"e\", \"i\", \"o\" or \"u\".\n",
        "\n",
        "[.-.] (Range Expression): Accept ANY ONE of the character in the range, e.g., [0-9] matches any digit; [A-Za-z] matches any uppercase or lowercase letters.\n",
        "\n",
        "[^...]: NOT ONE of the character, e.g., [^0-9] matches any non-digit.\n",
        "\n",
        "Only these four characters require escape sequence inside the bracket list: ^, -, ], \\.\n"
      ],
      "metadata": {
        "id": "w2mO-NSMEAoe"
      }
    },
    {
      "cell_type": "markdown",
      "source": [
        "**Escape Sequences**\n",
        "\n",
        "(\\char):\n",
        "To match a character having special meaning in regex, you need to use a escape sequence prefix with a backslash (\\\\). E.g., \\\\. matches \".\"; regex \\\\+ matches \"+\"; and regex \\\\( matches \"(\".\n",
        "You also need to use regex \\\\\\ to match \"\\\\\" (back-slash).\n",
        "Regex recognizes common escape sequences such as \\n for newline, \\t for tab, \\r for carriage-return, \\nnn for a up to 3-digit octal number, \\xhh for a two-digit hex code, \\uhhhh for a 4-digit Unicode, \\uhhhhhhhh for a 8-digit Unicode."
      ],
      "metadata": {
        "id": "z_ekkeeT8px0"
      }
    },
    {
      "cell_type": "markdown",
      "source": [
        "**Position Anchors:** does not match character, but position such as start-of-line, end-of-line, start-of-word and end-of-word.\n",
        "\n",
        "\n",
        "*   ^,\\$: start-of-line and end-of-line respectively. E.g., ^[0-9]$ matches a numeric string.\n",
        "*   \\b: boundary of word, i.e., start-of-word or end-of-word. E.g., \\bcat\\b matches the word \"cat\" in the input string.\n",
        "\n",
        "*  \\B: Inverse of \\b, i.e., non-start-of-word or non-end-of-word.\n",
        "*  \\<, \\>: start-of-word and end-of-word respectively, similar to \\b. E.g., \\<cat\\> matches the word \"cat\" in the input string.\n",
        "*  \\A, \\Z: start-of-input and end-of-input respectively.\n"
      ],
      "metadata": {
        "id": "G2VFIMXQHZhh"
      }
    },
    {
      "cell_type": "markdown",
      "source": [
        "**Methods in re Module**\n",
        "\n",
        "To find a pattern we use different set of re character sets that allows to search for a match in a string.\n",
        "\n",
        "\n",
        "*   re.match(): searches only in the beginning of the first line of the string and returns matched objects if found, else returns None.\n",
        "*   re.fullmatch() : It is used to match the whole string with a regex pattern.\n",
        "*   re.search(): Returns a match object if there is one anywhere in the string, including multiline strings.\n",
        "*   re.findall(): Returns a list containing all matches\n",
        "*   re.finditer(): It returns an iterator that yields match objects.\n",
        "*   re.split(): Takes a string, splits it at the match points, returns a list\n",
        "*   re.sub(): Replaces one or many matches within a string\n",
        "\n",
        "*   re.subn(): It works the same as 'sub'. It returns a tuple (new_string, num_of_substitution).\n",
        "*   re.compile() : It is used to turn a regular pattern into an object of a regular expression that may be used in a number of ways for matching patterns in a string.\n",
        "\n",
        "*   re.escape() :It is used to escape special characters in a pattern.\n",
        "*  re.purge() : It is used to clear the regex expression cache.\n",
        "\n",
        "\n",
        "\n"
      ],
      "metadata": {
        "id": "cbUYZ2qtVviR"
      }
    },
    {
      "cell_type": "markdown",
      "source": [],
      "metadata": {
        "id": "FFzatYdtp81g"
      }
    },
    {
      "cell_type": "markdown",
      "source": [
        "**Match**\n",
        "\n"
      ],
      "metadata": {
        "id": "CE7dIQ4eYP2q"
      }
    },
    {
      "cell_type": "code",
      "source": [
        "# syntac\n",
        "re.match(substring, string, re.I)\n",
        "# substring is a string or a pattern, string is the text we look for a pattern , re.I is case ignore"
      ],
      "metadata": {
        "id": "NB9yHH1XXk89"
      },
      "execution_count": null,
      "outputs": []
    },
    {
      "cell_type": "markdown",
      "source": [],
      "metadata": {
        "id": "IeVaFAmUJzKE"
      }
    },
    {
      "cell_type": "code",
      "source": [
        "import re\n",
        "\n",
        "txt = 'I love to teach Natural Language Processing and Machine Translation'\n",
        "# It returns an object with span, and match\n",
        "match = re.match('I love to teach', txt, re.I)\n",
        "print(match)  # <re.Match object; span=(0, 15), match='I love to teach'>\n",
        "# We can get the starting and ending position of the match as tuple using span\n",
        "span = match.span()\n",
        "print(span)     # (0, 15)\n",
        "# Lets find the start and stop position from the span\n",
        "start, end = span\n",
        "print(start, end)  # 0, 15\n",
        "substring = txt[start:end]\n",
        "print(substring)       # I love to teach"
      ],
      "metadata": {
        "id": "JuOJJ445Ylhh"
      },
      "execution_count": null,
      "outputs": []
    },
    {
      "cell_type": "markdown",
      "source": [
        "As you can see from the example above, the pattern we are looking for (or the substring we are looking for) is I love to teach. The match function returns an object only if the text starts with the pattern."
      ],
      "metadata": {
        "id": "cNjPMTcrYkVq"
      }
    },
    {
      "cell_type": "code",
      "source": [
        "import re\n",
        "\n",
        "txt = 'I love to teach Natural Language Processing and Machine Translation'\n",
        "match = re.match('I like to teach', txt, re.I)\n",
        "print(match)  # None"
      ],
      "metadata": {
        "colab": {
          "base_uri": "https://localhost:8080/"
        },
        "id": "_XbBHv94ZIZN",
        "outputId": "b0ca6912-ea09-49d5-9ca8-2b3b4d21a52d"
      },
      "execution_count": null,
      "outputs": [
        {
          "output_type": "stream",
          "name": "stdout",
          "text": [
            "None\n"
          ]
        }
      ]
    },
    {
      "cell_type": "markdown",
      "source": [
        "The string does not string with I like to teach, therefore there was no match and the match method returned None."
      ],
      "metadata": {
        "id": "NMqBdll8YOMy"
      }
    },
    {
      "cell_type": "markdown",
      "source": [
        "**Search**"
      ],
      "metadata": {
        "id": "hvL2l956Zrlp"
      }
    },
    {
      "cell_type": "code",
      "source": [
        "# syntax\n",
        "re.match(substring, string, re.I)\n",
        "# substring is a pattern, string is the text we look for a pattern , re.I is case ignore flag"
      ],
      "metadata": {
        "id": "Vk3wA2Qga6Lq"
      },
      "execution_count": null,
      "outputs": []
    },
    {
      "cell_type": "markdown",
      "source": [
        "The **Match** object has properties and methods used to retrieve information about the search, and the result:\n",
        "\n",
        "*   .span() returns a tuple containing the start-, and end positionsList item of the match.\n",
        "*   .string returns the string passed into the function\n",
        "*   .group() returns the part of the string where there was a match\n"
      ],
      "metadata": {
        "id": "ZQkIZvCpMbBW"
      }
    },
    {
      "cell_type": "markdown",
      "source": [
        "**Example**\n",
        "Print the position (start- and end-position) of the first match occurrence.\n",
        "\n",
        "The regular expression looks for any words that starts with an upper case \"S\":"
      ],
      "metadata": {
        "id": "4R_AdJfLMa_p"
      }
    },
    {
      "cell_type": "code",
      "source": [
        "import re\n",
        "\n",
        "txt = \"The rain in Spain\"\n",
        "x = re.search(r\"\\bS\\w+\", txt)\n",
        "print(x.span())"
      ],
      "metadata": {
        "colab": {
          "base_uri": "https://localhost:8080/"
        },
        "id": "AaC5RKwpN2JW",
        "outputId": "980a01dd-da08-4a7b-d709-115b8a5434f5"
      },
      "execution_count": null,
      "outputs": [
        {
          "output_type": "stream",
          "name": "stdout",
          "text": [
            "(12, 17)\n"
          ]
        }
      ]
    },
    {
      "cell_type": "markdown",
      "source": [
        "**Example**\n",
        "\n",
        "Print the string passed into the function:"
      ],
      "metadata": {
        "id": "L0ICw1MQOAay"
      }
    },
    {
      "cell_type": "code",
      "source": [
        "import re\n",
        "\n",
        "txt = \"The rain in Spain\"\n",
        "x = re.search(r\"\\bS\\w+\", txt)\n",
        "print(x.string)\n"
      ],
      "metadata": {
        "colab": {
          "base_uri": "https://localhost:8080/"
        },
        "id": "wD-C6vJqOKF1",
        "outputId": "3b3a8032-72f1-4fbc-aff0-09a12a17e3b0"
      },
      "execution_count": null,
      "outputs": [
        {
          "output_type": "stream",
          "name": "stdout",
          "text": [
            "The rain in Spain\n"
          ]
        }
      ]
    },
    {
      "cell_type": "markdown",
      "source": [
        "**Example**\n",
        "Print the part of the string where there was a match.\n",
        "\n",
        "The regular expression looks for any words that starts with an upper case \"S\":"
      ],
      "metadata": {
        "id": "XVKqX-PwOabB"
      }
    },
    {
      "cell_type": "code",
      "source": [
        "import re\n",
        "\n",
        "txt = \"The rain in Spain\"\n",
        "x = re.search(r\"\\bS\\w+\", txt)\n",
        "print(x.group())"
      ],
      "metadata": {
        "colab": {
          "base_uri": "https://localhost:8080/"
        },
        "id": "c93BxNlDOoKJ",
        "outputId": "4003fb65-d075-41b7-a02b-eabc49494a64"
      },
      "execution_count": null,
      "outputs": [
        {
          "output_type": "stream",
          "name": "stdout",
          "text": [
            "Spain\n"
          ]
        }
      ]
    },
    {
      "cell_type": "code",
      "source": [
        "import re\n",
        "\n",
        "txt = '''Python is the most beautiful language that a human being has ever created.\n",
        "I recommend python for a first programming language'''\n",
        "\n",
        "# It returns an object with span and match\n",
        "match = re.search('first', txt, re.I)\n",
        "print(match)  # <re.Match object; span=(100, 105), match='first'>\n",
        "# We can get the starting and ending position of the match as tuple using span\n",
        "span = match.span()\n",
        "print(span)     # (100, 105)\n",
        "# Lets find the start and stop position from the span\n",
        "start, end = span\n",
        "print(start, end)  # 100 105\n",
        "substring = txt[start:end]\n",
        "print(substring)       # first"
      ],
      "metadata": {
        "id": "iF97izvga-5L"
      },
      "execution_count": null,
      "outputs": []
    },
    {
      "cell_type": "markdown",
      "source": [
        "**Group Extraction**\n"
      ],
      "metadata": {
        "id": "ZHYpCuq6Q6in"
      }
    },
    {
      "cell_type": "code",
      "source": [
        "str = 'purple alice-b@google.com monkey dishwasher'\n",
        "match = re.search('([\\w.-]+)@([\\w.-]+)', str)\n",
        "if match:\n",
        "    print(match.group())   ## 'alice-b@google.com' (the whole match)\n",
        "    print(match.group(1))  ## 'alice-b' (the username, group 1)\n",
        "    print(match.group(2))  ## 'google.com' (the host, group 2)"
      ],
      "metadata": {
        "colab": {
          "base_uri": "https://localhost:8080/"
        },
        "id": "5H2U5uPkRGLO",
        "outputId": "3a2d7e4e-386a-4fbc-ded6-37a42f110ad8"
      },
      "execution_count": null,
      "outputs": [
        {
          "output_type": "stream",
          "name": "stdout",
          "text": [
            "alice-b@google.com\n",
            "alice-b\n",
            "google.com\n"
          ]
        }
      ]
    },
    {
      "cell_type": "markdown",
      "source": [
        "**The search() Function**\n",
        "\n",
        "The search() function searches the string for a match, and returns a Match object if there is a match.\n",
        "\n",
        "If there is more than one match, only the first occurrence of the match will be returned:"
      ],
      "metadata": {
        "id": "Y1TFdgxRPT6Y"
      }
    },
    {
      "cell_type": "markdown",
      "source": [
        "**Example**\n",
        "Search for the first white-space character in the string:"
      ],
      "metadata": {
        "id": "M6oY2JgiPe4d"
      }
    },
    {
      "cell_type": "code",
      "source": [
        "import re\n",
        "\n",
        "txt = \"The rain in Spain\"\n",
        "x = re.search(\"\\s\", txt)\n",
        "print(x)\n",
        "print(\"The first white-space character is located in position:\", x.start())"
      ],
      "metadata": {
        "colab": {
          "base_uri": "https://localhost:8080/"
        },
        "id": "Ox3AIU6uPYhe",
        "outputId": "b265f2f3-ba12-45af-900c-3cebb43e6ca1"
      },
      "execution_count": null,
      "outputs": [
        {
          "output_type": "stream",
          "name": "stdout",
          "text": [
            "<re.Match object; span=(3, 4), match=' '>\n",
            "The first white-space character is located in position: 3\n"
          ]
        }
      ]
    },
    {
      "cell_type": "markdown",
      "source": [
        "**The findall() Function**\n",
        "\n",
        "The findall() function returns a list containing all matches.\n",
        "\n",
        "**Example**\n",
        "Print a list of all matches:"
      ],
      "metadata": {
        "id": "iR7tUUYlUAgf"
      }
    },
    {
      "cell_type": "code",
      "source": [
        "import re\n",
        "\n",
        "txt = \"The rain in Spain\"\n",
        "x = re.findall(\"ai\", txt)\n",
        "print(x)"
      ],
      "metadata": {
        "colab": {
          "base_uri": "https://localhost:8080/"
        },
        "id": "pKJfOOtXUIZI",
        "outputId": "e2ef67e3-da35-4153-bdf6-f764419d7c80"
      },
      "execution_count": null,
      "outputs": [
        {
          "output_type": "stream",
          "name": "stdout",
          "text": [
            "['ai', 'ai']\n"
          ]
        }
      ]
    },
    {
      "cell_type": "markdown",
      "source": [
        "The list contains the matches in the order they are found.\n",
        "\n",
        "If no matches are found, an empty list is returned:"
      ],
      "metadata": {
        "id": "vp4T3OQtUWrl"
      }
    },
    {
      "cell_type": "markdown",
      "source": [
        "**Example**\n",
        "Return an empty list if no match was found:"
      ],
      "metadata": {
        "id": "1OuDtbF4UdcD"
      }
    },
    {
      "cell_type": "code",
      "source": [
        "import re\n",
        "\n",
        "txt = \"The rain in Spain\"\n",
        "x = re.findall(\"Portugal\", txt)\n",
        "print(x)"
      ],
      "metadata": {
        "colab": {
          "base_uri": "https://localhost:8080/"
        },
        "id": "frE5IcchUWT2",
        "outputId": "3dc835cb-27a2-4246-8001-19b2db4b8116"
      },
      "execution_count": null,
      "outputs": [
        {
          "output_type": "stream",
          "name": "stdout",
          "text": [
            "[]\n"
          ]
        }
      ]
    },
    {
      "cell_type": "markdown",
      "source": [
        "**Escape character(\\) in RegEx**"
      ],
      "metadata": {
        "id": "IMXNMJCyH5Iz"
      }
    },
    {
      "cell_type": "code",
      "source": [
        "regex_pattern = r'\\d'  # d is a special character which means digits\n",
        "txt = 'This regular expression example was made on December 6,  2019 and revised on July 8, 2021'\n",
        "matches = re.findall(regex_pattern, txt)\n",
        "print(matches)  # ['6', '2', '0', '1', '9', '8', '2', '0', '2', '1'], this is not what we want"
      ],
      "metadata": {
        "colab": {
          "base_uri": "https://localhost:8080/"
        },
        "id": "HzyAe-QQIEmX",
        "outputId": "ec103d99-1ad1-4f74-fea0-8a0e49eab1fb"
      },
      "execution_count": null,
      "outputs": [
        {
          "output_type": "stream",
          "name": "stdout",
          "text": [
            "['6', '2', '0', '1', '9', '8', '2', '0', '2', '1']\n"
          ]
        }
      ]
    },
    {
      "cell_type": "markdown",
      "source": [
        "**One or more times(+)**"
      ],
      "metadata": {
        "id": "Qb0yvvXDIL11"
      }
    },
    {
      "cell_type": "code",
      "source": [
        "regex_pattern = r'\\d+'  # d is a special character which means digits, + mean one or more times\n",
        "txt = 'This regular expression example was made on December 6,  2019 and revised on July 8, 2021'\n",
        "matches = re.findall(regex_pattern, txt)\n",
        "print(matches)  # ['6', '2019', '8', '2021'] - now, this is better!"
      ],
      "metadata": {
        "colab": {
          "base_uri": "https://localhost:8080/"
        },
        "id": "0SC1fPLWIbQ5",
        "outputId": "ec204b61-8b58-43a0-c05e-22a72475ca39"
      },
      "execution_count": null,
      "outputs": [
        {
          "output_type": "stream",
          "name": "stdout",
          "text": [
            "['6', '2019', '8', '2021']\n"
          ]
        }
      ]
    },
    {
      "cell_type": "markdown",
      "source": [
        "**Period(.) Example**\n"
      ],
      "metadata": {
        "id": "QZ3fXpQbGMtl"
      }
    },
    {
      "cell_type": "code",
      "source": [
        "regex_pattern = r'[a].'  # this square bracket means a and . means any character except new line\n",
        "txt = '''Apple and banana are fruits'''\n",
        "matches = re.findall(regex_pattern, txt)\n",
        "print(matches)  # ['an', 'an', 'an', 'a ', 'ar']\n",
        "\n",
        "regex_pattern = r'[a].+'  # . any character, + any character one or more times\n",
        "matches = re.findall(regex_pattern, txt)\n",
        "print(matches)  # ['and banana are fruits']"
      ],
      "metadata": {
        "colab": {
          "base_uri": "https://localhost:8080/"
        },
        "id": "W9H5zxrSIokU",
        "outputId": "2100b749-30ad-4eb6-ba6d-736985f768ee"
      },
      "execution_count": null,
      "outputs": [
        {
          "output_type": "stream",
          "name": "stdout",
          "text": [
            "['an', 'an', 'an', 'a ', 'ar']\n",
            "['and banana are fruits']\n"
          ]
        }
      ]
    },
    {
      "cell_type": "markdown",
      "source": [
        "**Quantifier in RegEx**\n",
        "\n"
      ],
      "metadata": {
        "id": "BOSWkpHQGxpL"
      }
    },
    {
      "cell_type": "code",
      "source": [
        "txt = 'This regular expression example was made on December 6,  2019 and revised on July 8, 2021'\n",
        "regex_pattern = r'\\d{4}'  # exactly four times\n",
        "matches = re.findall(regex_pattern, txt)\n",
        "print(matches)  # ['2019', '2021']\n",
        "\n",
        "txt = 'This regular expression example was made on December 6,  2019 and revised on July 8, 2021'\n",
        "regex_pattern = r'\\d{1, 4}'   # 1 to 4\n",
        "matches = re.findall(regex_pattern, txt)\n",
        "print(matches)  # ['6', '2019', '8', '2021']"
      ],
      "metadata": {
        "colab": {
          "base_uri": "https://localhost:8080/"
        },
        "id": "92nv-oaoG8Gh",
        "outputId": "3ad82a43-220c-465e-91c6-1efbcdad8b29"
      },
      "execution_count": null,
      "outputs": [
        {
          "output_type": "stream",
          "name": "stdout",
          "text": [
            "['2019', '2021']\n",
            "[]\n"
          ]
        }
      ]
    },
    {
      "cell_type": "markdown",
      "source": [
        " **Zero or more times(\\*)**\n",
        "\n",
        "Zero or many times. The pattern could may not occur or it can occur many times."
      ],
      "metadata": {
        "id": "Fczr73IKIzTb"
      }
    },
    {
      "cell_type": "code",
      "source": [
        "regex_pattern = r'[a].*'  # . any character, * any character zero or more times\n",
        "txt = '''Apple and banana are fruits'''\n",
        "matches = re.findall(regex_pattern, txt)\n",
        "print(matches)  # ['and banana are fruits']"
      ],
      "metadata": {
        "colab": {
          "base_uri": "https://localhost:8080/"
        },
        "id": "jwsAN0daJB3M",
        "outputId": "bbe36bac-7826-4049-cf86-f821a53f7728"
      },
      "execution_count": null,
      "outputs": [
        {
          "output_type": "stream",
          "name": "stdout",
          "text": [
            "['and banana are fruits']\n"
          ]
        }
      ]
    },
    {
      "cell_type": "markdown",
      "source": [
        "**Cart ^** **Example**\n",
        "\n",
        "*   Starts with\n"
      ],
      "metadata": {
        "id": "zbCCfN59G_Rg"
      }
    },
    {
      "cell_type": "code",
      "source": [
        "txt = 'This regular expression example was made on December 6,  2019 and revised on July 8, 2021'\n",
        "regex_pattern = r'^This'  # ^ means starts with\n",
        "matches = re.findall(regex_pattern, txt)\n",
        "print(matches)  # ['This']"
      ],
      "metadata": {
        "colab": {
          "base_uri": "https://localhost:8080/"
        },
        "id": "f_DbX1lAHWRs",
        "outputId": "21de9187-ec65-41a0-d8bb-c05faed2c3d0"
      },
      "execution_count": null,
      "outputs": [
        {
          "output_type": "stream",
          "name": "stdout",
          "text": [
            "['This']\n"
          ]
        }
      ]
    },
    {
      "cell_type": "markdown",
      "source": [
        "*   Negation"
      ],
      "metadata": {
        "id": "1XSOicobHhiZ"
      }
    },
    {
      "cell_type": "code",
      "source": [
        "txt = 'This regular expression example was made on December 6,  2019 and revised on July 8, 2021'\n",
        "regex_pattern = r'[^A-Za-z ]+'  # ^ in set character means negation, not A to Z, not a to z, no space\n",
        "matches = re.findall(regex_pattern, txt)\n",
        "print(matches)  # ['6,', '2019', '8', '2021']"
      ],
      "metadata": {
        "colab": {
          "base_uri": "https://localhost:8080/"
        },
        "id": "mwr3MJbBHwJv",
        "outputId": "23231b36-1a8f-4078-a4a6-22886c63bd35"
      },
      "execution_count": null,
      "outputs": [
        {
          "output_type": "stream",
          "name": "stdout",
          "text": [
            "['6,', '2019', '8,', '2021']\n"
          ]
        }
      ]
    },
    {
      "cell_type": "markdown",
      "source": [],
      "metadata": {
        "id": "OaZ6FIAMHutw"
      }
    },
    {
      "cell_type": "markdown",
      "source": [
        "**\\b\tExample** which returns a match where the specified characters are at the beginning or at the end of a word\n",
        "(the \"r\" in the beginning is making sure that the string is being treated as a \"raw string\")\n",
        "\n"
      ],
      "metadata": {
        "id": "S0_e87-3V6A4"
      }
    },
    {
      "cell_type": "markdown",
      "source": [
        "\n",
        "*   Check if \"ain\" is present at the beginning of a WORD\n"
      ],
      "metadata": {
        "id": "MkRaYPTRWYqM"
      }
    },
    {
      "cell_type": "code",
      "source": [
        "import re\n",
        "txt = \"The rain in Spain\"\n",
        "x = re.findall(r\"\\bain\", txt)\n",
        "print(x)\n",
        "if x:\n",
        "  print(\"Yes, there is at least one match!\")\n",
        "else:\n",
        "  print(\"No match\")"
      ],
      "metadata": {
        "colab": {
          "base_uri": "https://localhost:8080/"
        },
        "id": "6CtwczqwWIx6",
        "outputId": "8d76d6d1-39b8-4c3c-cd39-a12537c1ccd6"
      },
      "execution_count": null,
      "outputs": [
        {
          "output_type": "stream",
          "name": "stdout",
          "text": [
            "[]\n",
            "No match\n"
          ]
        }
      ]
    },
    {
      "cell_type": "markdown",
      "source": [
        "*   Check if \"ain\" is present at the beginning of a WORD:\n"
      ],
      "metadata": {
        "id": "FPlvuwKmWlWq"
      }
    },
    {
      "cell_type": "code",
      "source": [
        "import re\n",
        "txt = \"The rain in Spain\"\n",
        "x = re.findall(r\"ain\\b\", txt)\n",
        "print(x)\n",
        "if x:\n",
        "  print(\"Yes, there is at least one match!\")\n",
        "else:\n",
        "  print(\"No match\")\n"
      ],
      "metadata": {
        "colab": {
          "base_uri": "https://localhost:8080/"
        },
        "id": "myodQ2QoWx5Z",
        "outputId": "ec46a1da-db91-41c7-aa82-33a84be594b8"
      },
      "execution_count": null,
      "outputs": [
        {
          "output_type": "stream",
          "name": "stdout",
          "text": [
            "['ain', 'ain']\n",
            "Yes, there is at least one match!\n"
          ]
        }
      ]
    },
    {
      "cell_type": "markdown",
      "source": [
        "**Example**\n",
        "Check if \"ain\" is present, but NOT at the beginning of a word:"
      ],
      "metadata": {
        "id": "QHEuosszjE9U"
      }
    },
    {
      "cell_type": "code",
      "source": [
        "import re\n",
        "txt = \"The rain in Spain\"\n",
        "x = re.findall(r\"\\Bain\", txt)\n",
        "print(x)\n",
        "if x:\n",
        "  print(\"Yes, there is at least one match!\")\n",
        "else:\n",
        "  print(\"No match\")"
      ],
      "metadata": {
        "colab": {
          "base_uri": "https://localhost:8080/"
        },
        "id": "jhlW-UCtjt_v",
        "outputId": "c7c9af68-8484-4850-a006-19306ae178fb"
      },
      "execution_count": null,
      "outputs": [
        {
          "output_type": "stream",
          "name": "stdout",
          "text": [
            "['ain', 'ain']\n",
            "Yes, there is at least one match!\n"
          ]
        }
      ]
    },
    {
      "cell_type": "markdown",
      "source": [
        "**Exercise**\n",
        "Check if \"ain\" is present, but NOT at the beginning of a word"
      ],
      "metadata": {
        "id": "xWLK2EWUkKX8"
      }
    },
    {
      "cell_type": "markdown",
      "source": [
        "**\\A Example**\n",
        "\n",
        "Check if the string starts with \"The\"\n"
      ],
      "metadata": {
        "id": "y_ffejrJlGk9"
      }
    },
    {
      "cell_type": "code",
      "source": [
        "import re\n",
        "txt = \"The rain in Spain\"\n",
        "x = re.findall(\"\\AThe\", txt)\n",
        "print(x)\n",
        "if x:\n",
        "  print(\"Yes, there is a match!\")\n",
        "else:\n",
        "  print(\"No match\")"
      ],
      "metadata": {
        "colab": {
          "base_uri": "https://localhost:8080/"
        },
        "id": "dQB3ElnClKQm",
        "outputId": "bd3f1cd7-85fa-4b32-fbe6-f5545b177fe0"
      },
      "execution_count": null,
      "outputs": [
        {
          "output_type": "stream",
          "name": "stdout",
          "text": [
            "['The']\n",
            "Yes, there is a match!\n"
          ]
        }
      ]
    },
    {
      "cell_type": "markdown",
      "source": [
        "**\\D example**\n",
        "\n",
        "Return a match at every no-digit character"
      ],
      "metadata": {
        "id": "a0la7e5dmJcl"
      }
    },
    {
      "cell_type": "code",
      "source": [
        "import re\n",
        "txt = \"The rain in Spain\"\n",
        "x = re.findall(\"\\D\", txt)\n",
        "print(x)\n",
        "if x:\n",
        "  print(\"Yes, there is at least one match!\")\n",
        "else:\n",
        "  print(\"No match\")"
      ],
      "metadata": {
        "colab": {
          "base_uri": "https://localhost:8080/"
        },
        "id": "wtdlq-5DmP3c",
        "outputId": "4cbc5346-6e48-4be9-a0bc-8d0a1cad3d10"
      },
      "execution_count": null,
      "outputs": [
        {
          "output_type": "stream",
          "name": "stdout",
          "text": [
            "['T', 'h', 'e', ' ', 'r', 'a', 'i', 'n', ' ', 'i', 'n', ' ', 'S', 'p', 'a', 'i', 'n']\n",
            "Yes, there is at least one match!\n"
          ]
        }
      ]
    },
    {
      "cell_type": "markdown",
      "source": [
        "**Exercise**\n",
        "\n",
        "Check if the string contains any digits (numbers from 0-9)\n",
        "\n"
      ],
      "metadata": {
        "id": "1_q-EeXllXka"
      }
    },
    {
      "cell_type": "markdown",
      "source": [
        "**Example**\n",
        "Check if the string has any two-digit numbers, from 00 to 59"
      ],
      "metadata": {
        "id": "OJLOdzTEn87R"
      }
    },
    {
      "cell_type": "code",
      "source": [
        "import re\n",
        "txt = \"8 times before 11:45 AM\"\n",
        "x = re.findall(\"[0-5][0-9]\", txt)\n",
        "print(x)\n",
        "if x:\n",
        "  print(\"Yes, there is at least one match!\")\n",
        "else:\n",
        "  print(\"No match\")\n"
      ],
      "metadata": {
        "colab": {
          "base_uri": "https://localhost:8080/"
        },
        "id": "BaiqfZVvoHhv",
        "outputId": "04b72d50-8ea0-4d7f-9f1d-b5d641d7d976"
      },
      "execution_count": null,
      "outputs": [
        {
          "output_type": "stream",
          "name": "stdout",
          "text": [
            "['11', '45']\n",
            "Yes, there is at least one match!\n"
          ]
        }
      ]
    },
    {
      "cell_type": "markdown",
      "source": [
        "**Example:**\n",
        "\n",
        "Suppose we have a text with many email addresses. List out all the emails found in strings"
      ],
      "metadata": {
        "id": "nQOisL5Uo74L"
      }
    },
    {
      "cell_type": "code",
      "source": [
        "str = 'purple alice@google.com, blah monkey bob@abc.com blah dishwasher'\n",
        "emails = re.findall(r'[\\w\\.-]+@[\\w\\.-]+', str) ## ['alice@google.com', 'bob@abc.com']\n",
        "for email in emails:\n",
        "    # do something with each found email string\n",
        "    print(email)"
      ],
      "metadata": {
        "colab": {
          "base_uri": "https://localhost:8080/"
        },
        "id": "BKV6Wwx5pUYw",
        "outputId": "00c82ba7-236f-4a32-8c09-1eb691ba31d4"
      },
      "execution_count": null,
      "outputs": [
        {
          "output_type": "stream",
          "name": "stdout",
          "text": [
            "alice@google.com\n",
            "bob@abc.com\n"
          ]
        }
      ]
    },
    {
      "cell_type": "markdown",
      "source": [
        "**findall() With Files**\n"
      ],
      "metadata": {
        "id": "BX-miOSBp_ld"
      }
    },
    {
      "cell_type": "code",
      "source": [
        "f = open(\"demofile.txt\", \"a\")\n",
        "f.write(\"Now the file has more content!. The content can written here..\")\n",
        "f.close()\n",
        "\n",
        "# Open file\n",
        "with open('demofile.txt', 'r') as f1:\n",
        "  text = f1.read()\n",
        "\n",
        "strings = re.findall(r'the', text)\n",
        "print(strings)"
      ],
      "metadata": {
        "colab": {
          "base_uri": "https://localhost:8080/"
        },
        "id": "ZByG19EeqFvF",
        "outputId": "3b080497-6030-47f9-a478-b5754f001651"
      },
      "execution_count": null,
      "outputs": [
        {
          "output_type": "stream",
          "name": "stdout",
          "text": [
            "['the', 'the']\n"
          ]
        }
      ]
    },
    {
      "cell_type": "markdown",
      "source": [
        "**findall() and Groups**\n",
        "\n",
        "The parenthesis ( ) group mechanism can be combined with findall(). If the pattern includes 2 or more parenthesis groups, then instead of returning a list of strings, findall() returns a list of *tuples*. Each tuple represents one match of the pattern, and inside the tuple is the group(1), group(2) .. data"
      ],
      "metadata": {
        "id": "3v6B07Gk0m8Z"
      }
    },
    {
      "cell_type": "code",
      "source": [
        "import re\n",
        "str = 'purple alice@google.com, blah monkey bob@abc.com blah dishwasher'\n",
        "\n",
        "tuples = re.findall(r'([\\w\\.-]+)@([\\w\\.-]+)', str)\n",
        "print(tuples)\n",
        "\n",
        "for tuple in tuples:\n",
        "    print(tuple[0])\n",
        "    print(tuple[1])"
      ],
      "metadata": {
        "id": "uUrIPUHy071b",
        "colab": {
          "base_uri": "https://localhost:8080/"
        },
        "outputId": "4aa727c3-767a-41f0-9a34-d4018cd03dd5"
      },
      "execution_count": null,
      "outputs": [
        {
          "output_type": "stream",
          "name": "stdout",
          "text": [
            "[('alice', 'google.com'), ('bob', 'abc.com')]\n",
            "alice\n",
            "google.com\n",
            "bob\n",
            "abc.com\n"
          ]
        }
      ]
    },
    {
      "cell_type": "markdown",
      "source": [
        "**Writing RegEx Patterns**\n",
        "\n",
        "To declare a string variable we use a single or double quote. To declare RegEx variable r''. The following pattern only identifies apple with lowercase, to make it case insensitive either we should rewrite our pattern or we should add a flag."
      ],
      "metadata": {
        "id": "NNTgbto_Evaf"
      }
    },
    {
      "cell_type": "code",
      "source": [
        "import re\n",
        "\n",
        "regex_pattern = r'apple'\n",
        "txt = 'Apple and banana are fruits. An old cliche says an apple a day a doctor way has been replaced by a banana a day keeps the doctor far far away. '\n",
        "matches = re.findall(regex_pattern, txt)\n",
        "print(matches)  # ['apple']\n",
        "\n",
        "# To make case insensitive adding flag '\n",
        "matches = re.findall(regex_pattern, txt, re.I)\n",
        "print(matches)  # ['Apple', 'apple']\n",
        "# or we can use a set of characters method\n",
        "regex_pattern = r'[Aa]pple'  # this mean the first letter could be Apple or apple\n",
        "matches = re.findall(regex_pattern, txt)\n",
        "print(matches)  # ['Apple', 'apple']\n"
      ],
      "metadata": {
        "colab": {
          "base_uri": "https://localhost:8080/"
        },
        "id": "1ln7naWRE5df",
        "outputId": "8d5ffa5f-8deb-4734-b68f-b4b8e98e2ba3"
      },
      "execution_count": null,
      "outputs": [
        {
          "output_type": "stream",
          "name": "stdout",
          "text": [
            "['apple']\n",
            "['Apple', 'apple']\n",
            "['Apple', 'apple']\n"
          ]
        }
      ]
    },
    {
      "cell_type": "markdown",
      "source": [
        "**The split() Function**\n",
        "\n",
        "The split() function returns a list where the string has been split at each match:\n",
        "\n",
        "**Example**\n",
        "Split at each white-space character:"
      ],
      "metadata": {
        "id": "8J_xXEt4SDnI"
      }
    },
    {
      "cell_type": "markdown",
      "source": [],
      "metadata": {
        "id": "dqw8clA5UcEJ"
      }
    },
    {
      "cell_type": "code",
      "source": [
        "import re\n",
        "\n",
        "txt = \"The rain in Spain\"\n",
        "x = re.split(\"\\s\", txt)\n",
        "print(x)"
      ],
      "metadata": {
        "colab": {
          "base_uri": "https://localhost:8080/"
        },
        "id": "20wX_vIMSOl-",
        "outputId": "70b1d2c8-8544-4231-c62e-1ce82c6ecb7d"
      },
      "execution_count": null,
      "outputs": [
        {
          "output_type": "stream",
          "name": "stdout",
          "text": [
            "['The', 'rain', 'in', 'Spain']\n"
          ]
        }
      ]
    },
    {
      "cell_type": "markdown",
      "source": [
        "You can control the number of occurrences by specifying the maxsplit parameter:\n",
        "\n",
        "**Example**\n",
        "Split the string only at the first occurrence:"
      ],
      "metadata": {
        "id": "Y89ZdVy0Spk9"
      }
    },
    {
      "cell_type": "code",
      "source": [
        "import re\n",
        "\n",
        "txt = \"The rain in Spain\"\n",
        "x = re.split(\"\\s\", txt, 2)\n",
        "print(x)"
      ],
      "metadata": {
        "colab": {
          "base_uri": "https://localhost:8080/"
        },
        "id": "lvzziCxqSrzA",
        "outputId": "f9e23238-7a10-48a1-a6c3-1f73f92dc454"
      },
      "execution_count": null,
      "outputs": [
        {
          "output_type": "stream",
          "name": "stdout",
          "text": [
            "['The', 'rain', 'in Spain']\n"
          ]
        }
      ]
    },
    {
      "cell_type": "markdown",
      "source": [
        "**The sub() Function**\n",
        "The sub() function replaces the matches with the text of your choice:\n",
        "**Example**\n",
        "Replace every white-space character with the number 9:"
      ],
      "metadata": {
        "id": "zGml1lKqS-3V"
      }
    },
    {
      "cell_type": "code",
      "source": [
        "import re\n",
        "\n",
        "txt = \"The rain in Spain\"\n",
        "x = re.sub(\"\\s\", \"9\", txt)\n",
        "print(x)"
      ],
      "metadata": {
        "colab": {
          "base_uri": "https://localhost:8080/"
        },
        "id": "tHLGLrUBTJ7g",
        "outputId": "6435d9d1-c673-46ca-fce1-b53017017489"
      },
      "execution_count": null,
      "outputs": [
        {
          "output_type": "stream",
          "name": "stdout",
          "text": [
            "The9rain9in9Spain\n"
          ]
        }
      ]
    },
    {
      "cell_type": "markdown",
      "source": [
        "You can control the number of replacements by specifying the count parameter:\n",
        "\n",
        "**Example**\n",
        "Replace the first 2 occurrences:\n"
      ],
      "metadata": {
        "id": "QQmQE8w0TSfn"
      }
    },
    {
      "cell_type": "code",
      "source": [
        "import re\n",
        "\n",
        "txt = \"The rain in Spain\"\n",
        "x = re.sub(\"\\s\", \"9\", txt, 2)\n",
        "print(x)"
      ],
      "metadata": {
        "colab": {
          "base_uri": "https://localhost:8080/"
        },
        "id": "_j5vqzQvTa8T",
        "outputId": "d2899036-c457-4f75-b2d4-aa11fe5da8c7"
      },
      "execution_count": null,
      "outputs": [
        {
          "output_type": "stream",
          "name": "stdout",
          "text": [
            "The9rain9in Spain\n"
          ]
        }
      ]
    },
    {
      "cell_type": "markdown",
      "source": [
        "**Exercise:**\n",
        "\n",
        "Let's suppose that you are creating software for customer support and you are going to find the order from a text. Write code using regular expersion"
      ],
      "metadata": {
        "id": "WN6f-8reNLwc"
      }
    },
    {
      "cell_type": "code",
      "source": [
        "import re\n",
        "\n",
        "chat1='codebasics: Hello, I am having an issue with my order # 412889912'\n",
        "chat2='codebasics: I have a problem with my order number 412889912'\n",
        "chat3='codebasics: My order 412889912 is having an issue, I was charged 300$ when online it says 280$'\n",
        "pattern = 'order[^\\d]*(\\d*)'\n",
        "matches1 = re.findall(pattern, chat1)\n",
        "matches2 = re.findall(pattern, chat2)\n",
        "matches3 = re.findall(pattern, chat3)\n",
        "print(matches1, matches2, matches3)"
      ],
      "metadata": {
        "colab": {
          "base_uri": "https://localhost:8080/"
        },
        "id": "ujr7TKCtNwu-",
        "outputId": "4f76a39e-2831-496c-a826-4e1302cdbc95"
      },
      "execution_count": null,
      "outputs": [
        {
          "output_type": "stream",
          "name": "stdout",
          "text": [
            "['412889912'] ['412889912'] ['412889912']\n"
          ]
        }
      ]
    },
    {
      "cell_type": "markdown",
      "source": [
        "Write Regex to find Retrieve email id and phone"
      ],
      "metadata": {
        "id": "nuiI0lpWRyrR"
      }
    },
    {
      "cell_type": "code",
      "source": [
        "chat1 = 'codebasics: you ask lot of questions 😠  1235678912, abc@xyz.com'\n",
        "chat2 = 'codebasics: here it is: (123)-567-8912, abc@xyz.com'\n",
        "chat3 = 'codebasics: yes, phone: 1235678912 email: abc@xyz.com'\n",
        "pattern1= '[a-zA-Z0-9_]*@[a-z]*\\.[a-zA-Z0-9]*'\n",
        "matches1 = re.findall(pattern1, chat1)\n",
        "matches2 = re.findall(pattern1, chat2)\n",
        "matches3 = re.findall(pattern1, chat3)\n",
        "print(matches1, matches2, matches3)\n",
        "\n",
        "pattern2='(\\d{10})|(\\(\\d{3}\\)-\\d{3}-\\d{4})'\n",
        "\n",
        "matches1 = re.findall(pattern2, chat1)\n",
        "matches2 = re.findall(pattern2, chat2)\n",
        "matches3 = re.findall(pattern2, chat3)\n",
        "print(matches1, matches2, matches3)"
      ],
      "metadata": {
        "colab": {
          "base_uri": "https://localhost:8080/"
        },
        "id": "D7HROykqR9d0",
        "outputId": "bb26699e-a4a6-483f-b4c9-fd179ff8d5a6"
      },
      "execution_count": null,
      "outputs": [
        {
          "output_type": "stream",
          "name": "stdout",
          "text": [
            "['abc@xyz.com'] ['abc@xyz.com'] ['abc@xyz.com']\n",
            "[('1235678912', '')] [('', '(123)-567-8912')] [('1235678912', '')]\n"
          ]
        }
      ]
    },
    {
      "cell_type": "markdown",
      "source": [
        "**Regex for Information Extraction**  **Exmaple**"
      ],
      "metadata": {
        "id": "ZJGh4XsWUUGX"
      }
    },
    {
      "cell_type": "code",
      "source": [
        "text='''\n",
        "Born\tElon Reeve Musk\n",
        "June 28, 1971 (age 50)\n",
        "Pretoria, Transvaal, South Africa\n",
        "Citizenship\n",
        "South Africa (1971–present)\n",
        "Canada (1971–present)\n",
        "United States (2002–present)\n",
        "Education\tUniversity of Pennsylvania (BS, BA)\n",
        "Title\n",
        "Founder, CEO and Chief Engineer of SpaceX\n",
        "CEO and product architect of Tesla, Inc.\n",
        "Founder of The Boring Company and X.com (now part of PayPal)\n",
        "Co-founder of Neuralink, OpenAI, and Zip2\n",
        "Spouse(s)\n",
        "Justine Wilson\n",
        "​\n",
        "​(m. 2000; div. 2008)​\n",
        "Talulah Riley\n",
        "​\n",
        "​(m. 2010; div. 2012)​\n",
        "​\n",
        "​(m. 2013; div. 2016)\n",
        "'''\n",
        "print (re.findall(r'age (\\d+)', text))\n",
        "print (re.findall(r'Born(.*)\\n', text))\n",
        "print (re.findall(r'Born.*\\n(.*)\\(age', text))\n",
        "print (re.findall(r'\\(age.*\\n(.*)', text))"
      ],
      "metadata": {
        "colab": {
          "base_uri": "https://localhost:8080/"
        },
        "id": "t3UiYJ7fUtvo",
        "outputId": "d1db0498-1186-4775-faa5-80039dd8ae4b"
      },
      "execution_count": null,
      "outputs": [
        {
          "output_type": "stream",
          "name": "stdout",
          "text": [
            "['50']\n",
            "['\\tElon Reeve Musk']\n",
            "['June 28, 1971 ']\n",
            "['Pretoria, Transvaal, South Africa']\n"
          ]
        }
      ]
    },
    {
      "cell_type": "code",
      "source": [],
      "metadata": {
        "id": "vD6--imuXfKf"
      },
      "execution_count": null,
      "outputs": []
    }
  ]
}